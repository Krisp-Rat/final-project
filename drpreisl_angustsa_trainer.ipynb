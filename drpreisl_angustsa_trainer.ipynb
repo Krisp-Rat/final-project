{
 "cells": [
  {
   "cell_type": "code",
   "execution_count": null,
   "id": "initial_id",
   "metadata": {
    "collapsed": true
   },
   "outputs": [],
   "source": [
    "# make sure to use python 3.8, use virtual environment (to make terminal also 3.8) and reopen vscode \n",
    "from gym.wrappers import GrayScaleObservation\n",
    "from gym.wrappers import ResizeObservation  # these things also use cv2, pip install it (opencv-python)\n",
    "from nes_py.wrappers import JoypadSpace\n",
    "\n",
    "import gym_super_mario_bros  # install the VS code Developer kit?? refer to nes_py\n",
    "from gym_super_mario_bros.actions import SIMPLE_MOVEMENT\n",
    "# import retro # use to import sonic, #don't worry about it for now\n",
    "from drpreisl_angus_tsa_DQN import DQN # our assignment 2 DQN modified for gym instead of gymnasium, may change later\n",
    "import torch"
   ]
  },
  {
   "cell_type": "code",
   "outputs": [],
   "source": [
    "# create environment and agent + image preprocessing\n",
    "env = gym_super_mario_bros.make('SuperMarioBros-v3', apply_api_compatibility=True, render_mode=\"human\",\n",
    "                                max_episode_steps=300)\n",
    "env = JoypadSpace(env, SIMPLE_MOVEMENT)\n",
    "\n",
    "# IMAGE PROCESSING HERE\n",
    "env = GrayScaleObservation(env)\n",
    "env = ResizeObservation(env, shape=(64, 64))\n",
    "state, info = env.reset()\n",
    "env.render()\n",
    "\n",
    "Buffer_Size = 5000\n",
    "Mario = DQN(Buffer_Size, env)\n",
    "print(\"Successfully Created agent\")"
   ],
   "metadata": {
    "collapsed": false
   },
   "id": "950ccbdbaf2549a"
  },
  {
   "cell_type": "code",
   "outputs": [],
   "source": [
    "# HyperParameters:\n",
    "max_episodes = 1000\n",
    "epsilon = .8\n",
    "discount = 0.99\n",
    "action = Mario.action\n",
    "# Run DQN here\n",
    "total_rewards = Mario.train(episodes=max_episodes, epsilon=epsilon, discount=discount, action_function=action,\n",
    "                            greedy=False)\n",
    "Mario.save(\"drpreisl_angus_tsa_1-1.pickle\")\n",
    "print(\"training complete\")"
   ],
   "metadata": {
    "collapsed": false
   },
   "id": "77d6176a26a20769"
  },
  {
   "cell_type": "code",
   "outputs": [],
   "source": [
    "# Additional episodes\n",
    "# Run DQN here\n",
    "new_total_rewards = Mario.train(episodes=max_episodes, epsilon=epsilon, discount=discount, action_function=action,\n",
    "                            greedy=False)\n",
    "Mario.save(\"drpreisl_angus_tsa_additional_1-1.pickle\")"
   ],
   "metadata": {
    "collapsed": false
   },
   "id": "dbddf15ebcb52966"
  }
 ],
 "metadata": {
  "kernelspec": {
   "display_name": "Python 3",
   "language": "python",
   "name": "python3"
  },
  "language_info": {
   "codemirror_mode": {
    "name": "ipython",
    "version": 2
   },
   "file_extension": ".py",
   "mimetype": "text/x-python",
   "name": "python",
   "nbconvert_exporter": "python",
   "pygments_lexer": "ipython2",
   "version": "2.7.6"
  }
 },
 "nbformat": 4,
 "nbformat_minor": 5
}
